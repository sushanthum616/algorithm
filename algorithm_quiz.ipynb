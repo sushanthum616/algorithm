{
  "nbformat": 4,
  "nbformat_minor": 0,
  "metadata": {
    "colab": {
      "provenance": []
    },
    "kernelspec": {
      "name": "python3",
      "display_name": "Python 3"
    },
    "language_info": {
      "name": "python"
    }
  },
  "cells": [
    {
      "cell_type": "code",
      "execution_count": 1,
      "metadata": {
        "colab": {
          "base_uri": "https://localhost:8080/"
        },
        "id": "-uETUpsxe_Ky",
        "outputId": "c9b182e7-2bec-49b6-efa1-b40990ce5002"
      },
      "outputs": [
        {
          "output_type": "execute_result",
          "data": {
            "text/plain": [
              "11"
            ]
          },
          "metadata": {},
          "execution_count": 1
        }
      ],
      "source": [
        "def sumof_two_number(a, b):\n",
        "  return a + b\n",
        "\n",
        "sumof_two_number(5, 6)\n"
      ]
    },
    {
      "cell_type": "code",
      "source": [
        "def sumof_two_number(a, b, c):\n",
        "  return a + b + c\n",
        "\n",
        "sumof_two_number(5, 6, 5)"
      ],
      "metadata": {
        "colab": {
          "base_uri": "https://localhost:8080/"
        },
        "id": "cW6gizvefQtQ",
        "outputId": "f2e95451-1628-44c5-b910-b078ecf51381"
      },
      "execution_count": 2,
      "outputs": [
        {
          "output_type": "execute_result",
          "data": {
            "text/plain": [
              "16"
            ]
          },
          "metadata": {},
          "execution_count": 2
        }
      ]
    },
    {
      "cell_type": "code",
      "source": [
        "list=[3, 5, 1, 6, 99, 6]\n",
        "\n",
        "min = list[0]\n",
        "\n",
        "for number in list:\n",
        "  if number < min:\n",
        "    min = number\n",
        "\n",
        "print(min)"
      ],
      "metadata": {
        "colab": {
          "base_uri": "https://localhost:8080/"
        },
        "id": "tZUv8E4ufbcL",
        "outputId": "16b9f235-0a71-402d-8485-9a678f2bf91f"
      },
      "execution_count": 3,
      "outputs": [
        {
          "output_type": "stream",
          "name": "stdout",
          "text": [
            "1\n"
          ]
        }
      ]
    },
    {
      "cell_type": "code",
      "source": [
        "list=[3, 5, 1, 6, 99, 6]\n",
        "\n",
        "max = list[0]\n",
        "\n",
        "for number in list:\n",
        "  if number > max:\n",
        "    max = number\n",
        "\n",
        "print(max)"
      ],
      "metadata": {
        "colab": {
          "base_uri": "https://localhost:8080/"
        },
        "id": "wK0na0Sff7Km",
        "outputId": "bc3cdf6c-b040-43b6-d082-fdbb2a3914e2"
      },
      "execution_count": 4,
      "outputs": [
        {
          "output_type": "stream",
          "name": "stdout",
          "text": [
            "99\n"
          ]
        }
      ]
    }
  ]
}